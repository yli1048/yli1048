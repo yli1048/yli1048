{
  "nbformat": 4,
  "nbformat_minor": 0,
  "metadata": {
    "colab": {
      "name": "07_assignment.ipynb",
      "provenance": [],
      "include_colab_link": true
    },
    "kernelspec": {
      "name": "python3",
      "display_name": "Python 3"
    }
  },
  "cells": [
    {
      "cell_type": "markdown",
      "metadata": {
        "id": "view-in-github",
        "colab_type": "text"
      },
      "source": [
        "<a href=\"https://colab.research.google.com/github/yli1048/yli1048/blob/602/07_assignment.ipynb\" target=\"_parent\"><img src=\"https://colab.research.google.com/assets/colab-badge.svg\" alt=\"Open In Colab\"/></a>"
      ]
    },
    {
      "cell_type": "markdown",
      "metadata": {
        "id": "rd2QZetSDszc"
      },
      "source": [
        "# **Assignment 7**\n",
        "\n",
        "# **Weeks 8 & 9 - Pandas**\n",
        "* In this homework assignment, you will explore and analyze a public dataset of your choosing. Since this assignment is “open-ended” in nature, you are free to expand upon the requirements below. However, you must meet the minimum requirments as indicated in each section.\n",
        "\n",
        "* You must use Pandas as the **primary tool** to process your data.\n",
        "\n",
        "* The preferred method for this analysis is in a .ipynb file. Feel free to use whichever platform of your choosing.  \n",
        " * https://www.youtube.com/watch?v=inN8seMm7UI (Getting started with Colab).\n",
        "\n",
        "* Your data should need some \"work\", or be considered \"dirty\".  You must show your skills in data cleaning/wrangling.\n",
        "\n",
        "### **Some data examples:**\n",
        "•\thttps://www.data.gov/\n",
        "\n",
        "•\thttps://opendata.cityofnewyork.us/\n",
        "\n",
        "•\thttps://datasetsearch.research.google.com/\n",
        "\n",
        "•\thttps://archive.ics.uci.edu/ml/index.php\n",
        "\n",
        "### **Resources:**\n",
        "\n",
        "•\thttps://pandas.pydata.org/pandas-docs/stable/getting_started/10min.html\n",
        "\n",
        "•\thttps://pandas.pydata.org/pandas-docs/stable/user_guide/visualization.html\n",
        "\n",
        "\n",
        "### **Headings or comments**\n",
        "**You are required to make use of comments, or headings for each section.  You must explain what your code is doing, and the results of running your code.**  Act as if you were giving this assignment to your manager - you must include clear and descriptive information for each section.\n",
        "\n",
        "### **You may work as a group or indivdually on this assignment.**\n"
      ]
    },
    {
      "cell_type": "markdown",
      "metadata": {
        "id": "uW3w6p8rqgxu"
      },
      "source": [
        "# Introduction\n",
        "\n",
        "In this section, please describe the dataset you are using.  Include a link to the source of this data.  You should also provide some explanation on why you choose this dataset."
      ]
    },
    {
      "cell_type": "markdown",
      "metadata": {
        "id": "L0PnfMOFzOXz"
      },
      "source": [
        "This dataset is called Census Income, and its purpose is to predict whether an individual's income exceeds $50,000 per year based on census data. I found this dataset on the UC Irvine Machine Learning Repository. The URL is https://archive.ics.uci.edu/dataset/20/census+income. I chose this dataset because I am interested in identifying good predictors of income and determining how accurate these predictors can be."
      ]
    },
    {
      "cell_type": "markdown",
      "metadata": {
        "id": "3bp8cdDxDs2t"
      },
      "source": [
        "______________\n",
        "# Data Exploration\n",
        "Import your dataset into your .ipynb, create dataframes, and explore your data.  \n",
        "\n",
        "Include:\n",
        "\n",
        "* Summary statistics means, medians, quartiles,\n",
        "* Missing value information\n",
        "* Any other relevant information about the dataset.  \n",
        "\n"
      ]
    },
    {
      "cell_type": "code",
      "metadata": {
        "id": "1OJmbafkEhhq"
      },
      "source": [
        "import pandas as pd\n",
        "import numpy as np\n",
        "\n",
        "#import data and add column names since there were no column names\n",
        "df = pd.read_csv(\"https://raw.githubusercontent.com/yli1048/yli1048/refs/heads/602/adult.csv\", names = [\"age\", \"workclass\", \"fnlwgt\", \"education\", \"education_num\", \"marital_status\", \"occupation\", \"relationship\", \"race\", \"sex\", \"capital_gain\", \"capital_loss\", \"hours_per_week\", \"native_country\", \"income\"], header = 0)"
      ],
      "execution_count": 1,
      "outputs": []
    },
    {
      "cell_type": "code",
      "metadata": {
        "id": "4VWWvvynEiQT",
        "outputId": "02043395-3751-457f-d643-3ae494e98823",
        "colab": {
          "base_uri": "https://localhost:8080/"
        }
      },
      "source": [
        "#check dataframe\n",
        "print(df.head(3))"
      ],
      "execution_count": 2,
      "outputs": [
        {
          "output_type": "stream",
          "name": "stdout",
          "text": [
            "   age          workclass  fnlwgt   education  education_num  \\\n",
            "0   50   Self-emp-not-inc   83311   Bachelors             13   \n",
            "1   38            Private  215646     HS-grad              9   \n",
            "2   53            Private  234721        11th              7   \n",
            "\n",
            "        marital_status          occupation    relationship    race    sex  \\\n",
            "0   Married-civ-spouse     Exec-managerial         Husband   White   Male   \n",
            "1             Divorced   Handlers-cleaners   Not-in-family   White   Male   \n",
            "2   Married-civ-spouse   Handlers-cleaners         Husband   Black   Male   \n",
            "\n",
            "   capital_gain  capital_loss  hours_per_week  native_country  income  \n",
            "0             0             0              13   United-States   <=50K  \n",
            "1             0             0              40   United-States   <=50K  \n",
            "2             0             0              40   United-States   <=50K  \n"
          ]
        }
      ]
    },
    {
      "cell_type": "code",
      "metadata": {
        "id": "b0WTKtqozNn1",
        "outputId": "98cdc8e4-0e9f-4560-9535-f65089d645e0",
        "colab": {
          "base_uri": "https://localhost:8080/"
        }
      },
      "source": [
        "#check for NA values in the dataframe\n",
        "x = df.isnull().sum()\n",
        "print(x)"
      ],
      "execution_count": 3,
      "outputs": [
        {
          "output_type": "stream",
          "name": "stdout",
          "text": [
            "age               0\n",
            "workclass         0\n",
            "fnlwgt            0\n",
            "education         0\n",
            "education_num     0\n",
            "marital_status    0\n",
            "occupation        0\n",
            "relationship      0\n",
            "race              0\n",
            "sex               0\n",
            "capital_gain      0\n",
            "capital_loss      0\n",
            "hours_per_week    0\n",
            "native_country    0\n",
            "income            0\n",
            "dtype: int64\n"
          ]
        }
      ]
    },
    {
      "cell_type": "code",
      "source": [
        "#find dimension\n",
        "df.shape"
      ],
      "metadata": {
        "id": "XX5i7Oa70aox",
        "outputId": "9efba870-351a-4967-db2f-39625455a689",
        "colab": {
          "base_uri": "https://localhost:8080/"
        }
      },
      "execution_count": 4,
      "outputs": [
        {
          "output_type": "execute_result",
          "data": {
            "text/plain": [
              "(32560, 15)"
            ]
          },
          "metadata": {},
          "execution_count": 4
        }
      ]
    },
    {
      "cell_type": "code",
      "source": [
        "#Find the mean for all numeric columns in dataframe\n",
        "print(df.mean(numeric_only=True))"
      ],
      "metadata": {
        "id": "Sjm3RDkyStG0",
        "outputId": "d8601b6f-8b9c-48c0-dd27-3fceabd37e27",
        "colab": {
          "base_uri": "https://localhost:8080/"
        }
      },
      "execution_count": 5,
      "outputs": [
        {
          "output_type": "stream",
          "name": "stdout",
          "text": [
            "age                   38.581634\n",
            "fnlwgt            189781.814373\n",
            "education_num         10.080590\n",
            "capital_gain        1077.615172\n",
            "capital_loss          87.306511\n",
            "hours_per_week        40.437469\n",
            "dtype: float64\n"
          ]
        }
      ]
    },
    {
      "cell_type": "code",
      "source": [
        "#Find the quartiles for all numeric columns in dataframe\n",
        "print(df.quantile(q=[0, 0.25, 0.5, 0.75, 1], axis=0, numeric_only=True))"
      ],
      "metadata": {
        "id": "T4ZxXnZISstt",
        "outputId": "7d66e00d-28d2-498b-ea95-1d429673b75f",
        "colab": {
          "base_uri": "https://localhost:8080/"
        }
      },
      "execution_count": 6,
      "outputs": [
        {
          "output_type": "stream",
          "name": "stdout",
          "text": [
            "       age     fnlwgt  education_num  capital_gain  capital_loss  \\\n",
            "0.00  17.0    12285.0            1.0           0.0           0.0   \n",
            "0.25  28.0   117831.5            9.0           0.0           0.0   \n",
            "0.50  37.0   178363.0           10.0           0.0           0.0   \n",
            "0.75  48.0   237054.5           12.0           0.0           0.0   \n",
            "1.00  90.0  1484705.0           16.0       99999.0        4356.0   \n",
            "\n",
            "      hours_per_week  \n",
            "0.00             1.0  \n",
            "0.25            40.0  \n",
            "0.50            40.0  \n",
            "0.75            45.0  \n",
            "1.00            99.0  \n"
          ]
        }
      ]
    },
    {
      "cell_type": "markdown",
      "source": [
        "This dataset does not contain any missing values. However, it includes values represented as \"?\"."
      ],
      "metadata": {
        "id": "wk027lfu_Yz4"
      }
    },
    {
      "cell_type": "markdown",
      "source": [
        "This dataset was derived from the 1994 Census Bureau database by Ronny Kohavi and Barry Becker. Consequently, the information contained within this dataset may not serve as reliable predictors for contemporary societal trends or occupational classifications."
      ],
      "metadata": {
        "id": "haxzjWZw_W2j"
      }
    },
    {
      "cell_type": "markdown",
      "metadata": {
        "id": "kCSLIafaEGVK"
      },
      "source": [
        "# Data Wrangling\n",
        "Create a subset of your original data and perform the following.  \n",
        "\n",
        "1. Modify multiple column names.\n",
        "\n",
        "2. Look at the structure of your data – are any variables improperly coded? Such as strings or characters? Convert to correct structure if needed.\n",
        "\n",
        "3. Fix missing and invalid values in data.\n",
        "\n",
        "4. Create new columns based on existing columns or calculations.\n",
        "\n",
        "5. Drop column(s) from your dataset.\n",
        "\n",
        "6. Drop a row(s) from your dataset.\n",
        "\n",
        "7. Sort your data based on multiple variables.\n",
        "\n",
        "8. Filter your data based on some condition.\n",
        "\n",
        "9. Convert all the string values to upper or lower cases in one column.\n",
        "\n",
        "10. Check whether numeric values are present in a given column of your dataframe.\n",
        "\n",
        "11. Group your dataset by one column, and get the mean, min, and max values by group.\n",
        "  * Groupby()\n",
        "  * agg() or .apply()\n",
        "\n",
        "12. Group your dataset by two columns and then sort the aggregated results within the groups.\n",
        "\n",
        "**You are free (and should) to add on to these questions.  Please clearly indicate in your assignment your answers to these questions.**"
      ]
    },
    {
      "cell_type": "code",
      "source": [
        "#create a subset for all the census respondents who were born in the United States\n",
        "us = df[df[\"native_country\"] == \" United-States\"].copy()"
      ],
      "metadata": {
        "id": "H89bvWa-ZYa3"
      },
      "execution_count": 7,
      "outputs": []
    },
    {
      "cell_type": "code",
      "source": [
        "#modify multiple column names\n",
        "us.columns = [\"age\", \"workclass\", \"final_weight\", \"education\", \"education_level\", \"marital_status\", \"occupation\", \"relationship\", \"race\", \"gender\", \"capital_gain\", \"capital_loss\", \"hours_per_week\", \"native_country\", \"income\"]\n",
        "print(us.head(3))"
      ],
      "metadata": {
        "id": "PuBZ7_Mydkb6",
        "outputId": "dd0314ab-0ce2-416b-9d60-d791c439962a",
        "colab": {
          "base_uri": "https://localhost:8080/"
        }
      },
      "execution_count": 8,
      "outputs": [
        {
          "output_type": "stream",
          "name": "stdout",
          "text": [
            "   age          workclass  final_weight   education  education_level  \\\n",
            "0   50   Self-emp-not-inc         83311   Bachelors               13   \n",
            "1   38            Private        215646     HS-grad                9   \n",
            "2   53            Private        234721        11th                7   \n",
            "\n",
            "        marital_status          occupation    relationship    race gender  \\\n",
            "0   Married-civ-spouse     Exec-managerial         Husband   White   Male   \n",
            "1             Divorced   Handlers-cleaners   Not-in-family   White   Male   \n",
            "2   Married-civ-spouse   Handlers-cleaners         Husband   Black   Male   \n",
            "\n",
            "   capital_gain  capital_loss  hours_per_week  native_country  income  \n",
            "0             0             0              13   United-States   <=50K  \n",
            "1             0             0              40   United-States   <=50K  \n",
            "2             0             0              40   United-States   <=50K  \n"
          ]
        }
      ]
    },
    {
      "cell_type": "markdown",
      "source": [
        "All variables were correctly coded, as they were properly cleaned during the extraction process."
      ],
      "metadata": {
        "id": "k8iZ4iOwICDo"
      }
    },
    {
      "cell_type": "code",
      "source": [
        "#check dimension\n",
        "us.shape"
      ],
      "metadata": {
        "id": "tYFSuN7P1o65",
        "outputId": "01b964d0-4b69-4240-e184-56dd34c8da81",
        "colab": {
          "base_uri": "https://localhost:8080/"
        }
      },
      "execution_count": 9,
      "outputs": [
        {
          "output_type": "execute_result",
          "data": {
            "text/plain": [
              "(29169, 15)"
            ]
          },
          "metadata": {},
          "execution_count": 9
        }
      ]
    },
    {
      "cell_type": "code",
      "source": [
        "#replace all ? to NA\n",
        "us = us.replace(to_replace=\" ?\", value=\"NA\")"
      ],
      "metadata": {
        "id": "nwYCS8wF0RdP"
      },
      "execution_count": 10,
      "outputs": []
    },
    {
      "cell_type": "code",
      "source": [
        "#remove all \"NA\" values in the workclass column\n",
        "value = [\"NA\"]\n",
        "us = us[us.workclass.isin(value) == False]"
      ],
      "metadata": {
        "id": "P6D8-oVi6iKV"
      },
      "execution_count": 11,
      "outputs": []
    },
    {
      "cell_type": "code",
      "source": [
        "#remove all \"NA\" values in the occupation column\n",
        "us = us[us.occupation.isin(value) == False]"
      ],
      "metadata": {
        "id": "vTYnnTQt1fEZ"
      },
      "execution_count": 12,
      "outputs": []
    },
    {
      "cell_type": "code",
      "source": [
        "#check new dimension\n",
        "print(us.shape)"
      ],
      "metadata": {
        "colab": {
          "base_uri": "https://localhost:8080/"
        },
        "id": "eTwFne656Zwg",
        "outputId": "c7c38e9e-f51c-4cd8-8bc4-c43fcb4980fc"
      },
      "execution_count": 13,
      "outputs": [
        {
          "output_type": "stream",
          "name": "stdout",
          "text": [
            "(27503, 15)\n"
          ]
        }
      ]
    },
    {
      "cell_type": "code",
      "source": [
        "#create new columns based on existing columns and calculation\n",
        "us[\"capital_income\"] = (us[\"capital_gain\"] - us[\"capital_loss\"])\n",
        "print(us.head(3))"
      ],
      "metadata": {
        "id": "nATPKSaNXD9B",
        "outputId": "9c02e7df-7ac2-4dbd-ceef-248c75a1308d",
        "colab": {
          "base_uri": "https://localhost:8080/"
        }
      },
      "execution_count": 14,
      "outputs": [
        {
          "output_type": "stream",
          "name": "stdout",
          "text": [
            "   age          workclass  final_weight   education  education_level  \\\n",
            "0   50   Self-emp-not-inc         83311   Bachelors               13   \n",
            "1   38            Private        215646     HS-grad                9   \n",
            "2   53            Private        234721        11th                7   \n",
            "\n",
            "        marital_status          occupation    relationship    race gender  \\\n",
            "0   Married-civ-spouse     Exec-managerial         Husband   White   Male   \n",
            "1             Divorced   Handlers-cleaners   Not-in-family   White   Male   \n",
            "2   Married-civ-spouse   Handlers-cleaners         Husband   Black   Male   \n",
            "\n",
            "   capital_gain  capital_loss  hours_per_week  native_country  income  \\\n",
            "0             0             0              13   United-States   <=50K   \n",
            "1             0             0              40   United-States   <=50K   \n",
            "2             0             0              40   United-States   <=50K   \n",
            "\n",
            "   capital_income  \n",
            "0               0  \n",
            "1               0  \n",
            "2               0  \n"
          ]
        }
      ]
    },
    {
      "cell_type": "code",
      "source": [
        "#drop columns \"capital_gain\" and \"capital_loss\" since we already calculated the total\n",
        "us = us.drop([\"capital_gain\", \"capital_loss\"], axis=1)\n",
        "print(us.head(3))"
      ],
      "metadata": {
        "id": "14Pzp56WH9-K",
        "outputId": "09c0d7a1-388d-42b7-d97e-39cd4c84fbc0",
        "colab": {
          "base_uri": "https://localhost:8080/"
        }
      },
      "execution_count": 15,
      "outputs": [
        {
          "output_type": "stream",
          "name": "stdout",
          "text": [
            "   age          workclass  final_weight   education  education_level  \\\n",
            "0   50   Self-emp-not-inc         83311   Bachelors               13   \n",
            "1   38            Private        215646     HS-grad                9   \n",
            "2   53            Private        234721        11th                7   \n",
            "\n",
            "        marital_status          occupation    relationship    race gender  \\\n",
            "0   Married-civ-spouse     Exec-managerial         Husband   White   Male   \n",
            "1             Divorced   Handlers-cleaners   Not-in-family   White   Male   \n",
            "2   Married-civ-spouse   Handlers-cleaners         Husband   Black   Male   \n",
            "\n",
            "   hours_per_week  native_country  income  capital_income  \n",
            "0              13   United-States   <=50K               0  \n",
            "1              40   United-States   <=50K               0  \n",
            "2              40   United-States   <=50K               0  \n"
          ]
        }
      ]
    },
    {
      "cell_type": "code",
      "source": [
        "#drop the first two rows by index\n",
        "us = us.drop([0, 1])\n",
        "print(us.head(3))"
      ],
      "metadata": {
        "id": "eobPUgyKieaT",
        "outputId": "f9522514-bb56-48d6-9af7-38bfff3031d4",
        "colab": {
          "base_uri": "https://localhost:8080/"
        }
      },
      "execution_count": 16,
      "outputs": [
        {
          "output_type": "stream",
          "name": "stdout",
          "text": [
            "   age          workclass  final_weight education  education_level  \\\n",
            "2   53            Private        234721      11th                7   \n",
            "4   37            Private        284582   Masters               14   \n",
            "6   52   Self-emp-not-inc        209642   HS-grad                9   \n",
            "\n",
            "        marital_status          occupation relationship    race   gender  \\\n",
            "2   Married-civ-spouse   Handlers-cleaners      Husband   Black     Male   \n",
            "4   Married-civ-spouse     Exec-managerial         Wife   White   Female   \n",
            "6   Married-civ-spouse     Exec-managerial      Husband   White     Male   \n",
            "\n",
            "   hours_per_week  native_country  income  capital_income  \n",
            "2              40   United-States   <=50K               0  \n",
            "4              40   United-States   <=50K               0  \n",
            "6              45   United-States    >50K               0  \n"
          ]
        }
      ]
    },
    {
      "cell_type": "code",
      "source": [
        "#sort the dataframe based on multiple variables\n",
        "us = us.sort_values(by=[\"age\", \"education_level\"], ignore_index=True)\n",
        "print(us.head(3))"
      ],
      "metadata": {
        "id": "W-ybTJh4jOCb",
        "colab": {
          "base_uri": "https://localhost:8080/"
        },
        "outputId": "eb7794d3-b992-4c3b-9746-1156cad5900d"
      },
      "execution_count": 17,
      "outputs": [
        {
          "output_type": "stream",
          "name": "stdout",
          "text": [
            "   age workclass  final_weight education  education_level  marital_status  \\\n",
            "0   17   Private        168807   7th-8th                4   Never-married   \n",
            "1   17   Private         46402   7th-8th                4   Never-married   \n",
            "2   17   Private        191260       9th                5   Never-married   \n",
            "\n",
            "       occupation    relationship    race gender  hours_per_week  \\\n",
            "0    Craft-repair   Not-in-family   White   Male              45   \n",
            "1           Sales       Own-child   White   Male               8   \n",
            "2   Other-service       Own-child   White   Male              24   \n",
            "\n",
            "   native_country  income  capital_income  \n",
            "0   United-States   <=50K               0  \n",
            "1   United-States   <=50K               0  \n",
            "2   United-States   <=50K            1055  \n"
          ]
        }
      ]
    },
    {
      "cell_type": "code",
      "source": [
        "#filter the dataframe based on having child condition\n",
        "us_kids = us[us[\"relationship\"] == \" Own-child\"].copy()\n",
        "print(us_kids.head(3))"
      ],
      "metadata": {
        "colab": {
          "base_uri": "https://localhost:8080/"
        },
        "id": "rvZ1J5oZkbEn",
        "outputId": "0c2130b0-fb52-424e-c5ce-0b423ba47a00"
      },
      "execution_count": 18,
      "outputs": [
        {
          "output_type": "stream",
          "name": "stdout",
          "text": [
            "   age   workclass  final_weight education  education_level  marital_status  \\\n",
            "1   17     Private         46402   7th-8th                4   Never-married   \n",
            "2   17     Private        191260       9th                5   Never-married   \n",
            "4   17   Local-gov         32124       9th                5   Never-married   \n",
            "\n",
            "       occupation relationship    race gender  hours_per_week  native_country  \\\n",
            "1           Sales    Own-child   White   Male               8   United-States   \n",
            "2   Other-service    Own-child   White   Male              24   United-States   \n",
            "4   Other-service    Own-child   Black   Male               9   United-States   \n",
            "\n",
            "   income  capital_income  \n",
            "1   <=50K               0  \n",
            "2   <=50K            1055  \n",
            "4   <=50K               0  \n"
          ]
        }
      ]
    },
    {
      "cell_type": "code",
      "source": [
        "#convert all the string values to lower cases in column \"workclass\"\n",
        "us_kids[\"workclass\"] = us_kids[\"workclass\"].str.lower()\n",
        "print(us_kids.head(3))"
      ],
      "metadata": {
        "colab": {
          "base_uri": "https://localhost:8080/"
        },
        "id": "iYgV8bC-k-0y",
        "outputId": "53b362e4-cba5-48b0-ad8e-b45acf81cc7b"
      },
      "execution_count": 19,
      "outputs": [
        {
          "output_type": "stream",
          "name": "stdout",
          "text": [
            "   age   workclass  final_weight education  education_level  marital_status  \\\n",
            "1   17     private         46402   7th-8th                4   Never-married   \n",
            "2   17     private        191260       9th                5   Never-married   \n",
            "4   17   local-gov         32124       9th                5   Never-married   \n",
            "\n",
            "       occupation relationship    race gender  hours_per_week  native_country  \\\n",
            "1           Sales    Own-child   White   Male               8   United-States   \n",
            "2   Other-service    Own-child   White   Male              24   United-States   \n",
            "4   Other-service    Own-child   Black   Male               9   United-States   \n",
            "\n",
            "   income  capital_income  \n",
            "1   <=50K               0  \n",
            "2   <=50K            1055  \n",
            "4   <=50K               0  \n"
          ]
        }
      ]
    },
    {
      "cell_type": "code",
      "source": [
        "#check whether numeric values are present in a given column of the dataframe\n",
        "print(us_kids.dtypes)"
      ],
      "metadata": {
        "colab": {
          "base_uri": "https://localhost:8080/"
        },
        "id": "prEX2ydGlCrL",
        "outputId": "294e738d-3c4d-40c5-b326-b9574a8703cf"
      },
      "execution_count": 20,
      "outputs": [
        {
          "output_type": "stream",
          "name": "stdout",
          "text": [
            "age                 int64\n",
            "workclass          object\n",
            "final_weight        int64\n",
            "education          object\n",
            "education_level     int64\n",
            "marital_status     object\n",
            "occupation         object\n",
            "relationship       object\n",
            "race               object\n",
            "gender             object\n",
            "hours_per_week      int64\n",
            "native_country     object\n",
            "income             object\n",
            "capital_income      int64\n",
            "dtype: object\n"
          ]
        }
      ]
    },
    {
      "cell_type": "code",
      "source": [
        "#group the dataset by \"marital_status\", and get the mean, min, and max values by group\n",
        "result = us_kids.groupby(\"marital_status\").agg({\"capital_income\":[\"mean\", \"min\", \"max\"]})\n",
        "print(\"Mean, min, and max values of capital income grouped by marital status\")\n",
        "print(result)"
      ],
      "metadata": {
        "colab": {
          "base_uri": "https://localhost:8080/"
        },
        "id": "a-0IyDVRm2hY",
        "outputId": "c359977d-1cc8-482c-9dbc-23d9347d3349"
      },
      "execution_count": 21,
      "outputs": [
        {
          "output_type": "stream",
          "name": "stdout",
          "text": [
            "Mean, min, and max values of capital income grouped by marital status\n",
            "                      capital_income             \n",
            "                                mean   min    max\n",
            "marital_status                                   \n",
            "Divorced                  176.180272 -1876  14344\n",
            "Married-AF-spouse           0.000000     0      0\n",
            "Married-civ-spouse        525.109589 -2129   7688\n",
            "Married-spouse-absent     -55.241379 -1602      0\n",
            "Never-married             114.540438 -2339  99999\n",
            "Separated                 -31.938272 -3900   2597\n",
            "Widowed                     0.000000     0      0\n"
          ]
        }
      ]
    },
    {
      "cell_type": "code",
      "source": [
        "#group the dataset by two columns(\"race\" and \"gender\") and then sort the aggregated results within the groups\n",
        "result_2 = us_kids.groupby([\"race\", \"gender\"]).agg({\"hours_per_week\":[\"mean\", \"min\", \"max\"]})\n",
        "print(\"Mean, min, and max values of hours of work per week grouped by race and gender\")\n",
        "print(result_2)"
      ],
      "metadata": {
        "colab": {
          "base_uri": "https://localhost:8080/"
        },
        "id": "d0ZhV_0coCae",
        "outputId": "da01d104-4a7f-41b9-aa25-f81d476fe5fc"
      },
      "execution_count": 22,
      "outputs": [
        {
          "output_type": "stream",
          "name": "stdout",
          "text": [
            "Mean, min, and max values of hours of work per week grouped by race and gender\n",
            "                          hours_per_week        \n",
            "                                    mean min max\n",
            "race               gender                       \n",
            "Amer-Indian-Eskimo Female      27.750000   4  40\n",
            "                   Male        37.423077  15  84\n",
            "Asian-Pac-Islander Female      33.972222  12  50\n",
            "                   Male        36.368421  16  60\n",
            "Black              Female      33.648402   2  75\n",
            "                   Male        34.822314   1  80\n",
            "Other              Female      32.700000  15  65\n",
            "                   Male        35.125000  12  52\n",
            "White              Female      30.250160   2  99\n",
            "                   Male        35.121302   2  99\n"
          ]
        }
      ]
    },
    {
      "cell_type": "code",
      "source": [
        "#create a new subset for all people whose income is greater than 50k\n",
        "df_50k = df[df[\"income\"] == \" >50K\"].copy()\n",
        "print(df_50k.head(3))"
      ],
      "metadata": {
        "id": "X2YLLOKKqRm9",
        "outputId": "0a383572-111c-4e5a-ef05-21165787fcb2",
        "colab": {
          "base_uri": "https://localhost:8080/"
        }
      },
      "execution_count": 23,
      "outputs": [
        {
          "output_type": "stream",
          "name": "stdout",
          "text": [
            "   age          workclass  fnlwgt   education  education_num  \\\n",
            "6   52   Self-emp-not-inc  209642     HS-grad              9   \n",
            "7   31            Private   45781     Masters             14   \n",
            "8   42            Private  159449   Bachelors             13   \n",
            "\n",
            "        marital_status        occupation    relationship    race      sex  \\\n",
            "6   Married-civ-spouse   Exec-managerial         Husband   White     Male   \n",
            "7        Never-married    Prof-specialty   Not-in-family   White   Female   \n",
            "8   Married-civ-spouse   Exec-managerial         Husband   White     Male   \n",
            "\n",
            "   capital_gain  capital_loss  hours_per_week  native_country income  \n",
            "6             0             0              45   United-States   >50K  \n",
            "7         14084             0              50   United-States   >50K  \n",
            "8          5178             0              40   United-States   >50K  \n"
          ]
        }
      ]
    },
    {
      "cell_type": "code",
      "source": [
        "#check for dimension\n",
        "df_50k.shape"
      ],
      "metadata": {
        "colab": {
          "base_uri": "https://localhost:8080/"
        },
        "id": "33wiwLWm8UZi",
        "outputId": "bd7bdf9f-16d7-45c8-d638-ac3819694744"
      },
      "execution_count": 24,
      "outputs": [
        {
          "output_type": "execute_result",
          "data": {
            "text/plain": [
              "(7841, 15)"
            ]
          },
          "metadata": {},
          "execution_count": 24
        }
      ]
    },
    {
      "cell_type": "code",
      "source": [
        "#replace all ? to NA\n",
        "df_50k = df_50k.replace(to_replace=\" ?\", value=\"NA\")"
      ],
      "metadata": {
        "id": "teES8iK98mkB"
      },
      "execution_count": 31,
      "outputs": []
    },
    {
      "cell_type": "code",
      "source": [
        "#remove NA values\n",
        "df_50k = df_50k[df_50k.workclass.isin(value) == False]\n",
        "df_50k = df_50k[df_50k.occupation.isin(value) == False]"
      ],
      "metadata": {
        "id": "HBBmEpwQ7yiP"
      },
      "execution_count": 32,
      "outputs": []
    },
    {
      "cell_type": "code",
      "source": [
        "#check for new dimension\n",
        "df_50k.shape"
      ],
      "metadata": {
        "colab": {
          "base_uri": "https://localhost:8080/"
        },
        "id": "f5AfTAzD78vQ",
        "outputId": "a8ddbe22-b7f5-4353-89ec-56c941aa588c"
      },
      "execution_count": 33,
      "outputs": [
        {
          "output_type": "execute_result",
          "data": {
            "text/plain": [
              "(7650, 15)"
            ]
          },
          "metadata": {},
          "execution_count": 33
        }
      ]
    },
    {
      "cell_type": "code",
      "source": [
        "#find the counts for the races of people whose income is greater than 50k\n",
        "race_50k = df_50k[\"race\"].value_counts().rename_axis(\"race\").reset_index(name=\"counts\")\n",
        "print(race_50k)"
      ],
      "metadata": {
        "colab": {
          "base_uri": "https://localhost:8080/"
        },
        "id": "xBZHJ-Vv2CaW",
        "outputId": "3c0192d8-1f2f-4004-f3f1-e5036c4b194e"
      },
      "execution_count": 34,
      "outputs": [
        {
          "output_type": "stream",
          "name": "stdout",
          "text": [
            "                  race  counts\n",
            "0                White    6944\n",
            "1                Black     378\n",
            "2   Asian-Pac-Islander     271\n",
            "3   Amer-Indian-Eskimo      34\n",
            "4                Other      23\n"
          ]
        }
      ]
    },
    {
      "cell_type": "code",
      "source": [
        "#calculate percentage for each race\n",
        "total = race_50k[\"counts\"].sum()\n",
        "race_50k[\"percentage\"] = race_50k[\"counts\"] / total * 100\n",
        "print(race_50k)"
      ],
      "metadata": {
        "colab": {
          "base_uri": "https://localhost:8080/"
        },
        "id": "73bVrWMT3kn5",
        "outputId": "89fe300a-0d38-4995-d1ee-3faa3d796143"
      },
      "execution_count": 35,
      "outputs": [
        {
          "output_type": "stream",
          "name": "stdout",
          "text": [
            "                  race  counts  percentage\n",
            "0                White    6944   90.771242\n",
            "1                Black     378    4.941176\n",
            "2   Asian-Pac-Islander     271    3.542484\n",
            "3   Amer-Indian-Eskimo      34    0.444444\n",
            "4                Other      23    0.300654\n"
          ]
        }
      ]
    },
    {
      "cell_type": "code",
      "source": [
        "#find the counts for the occuppations of people whose income is greater than 50k\n",
        "job_50k = df_50k[\"occupation\"].value_counts().rename_axis(\"occupation\").reset_index(name=\"counts\")\n",
        "print(job_50k)"
      ],
      "metadata": {
        "colab": {
          "base_uri": "https://localhost:8080/"
        },
        "id": "a-BmLT-G2UPt",
        "outputId": "98ac0695-c467-44b6-dbe4-d8ff11d2c4e7"
      },
      "execution_count": 37,
      "outputs": [
        {
          "output_type": "stream",
          "name": "stdout",
          "text": [
            "            occupation  counts\n",
            "0      Exec-managerial    1968\n",
            "1       Prof-specialty    1859\n",
            "2                Sales     983\n",
            "3         Craft-repair     929\n",
            "4         Adm-clerical     507\n",
            "5     Transport-moving     320\n",
            "6         Tech-support     283\n",
            "7    Machine-op-inspct     250\n",
            "8      Protective-serv     211\n",
            "9        Other-service     137\n",
            "10     Farming-fishing     115\n",
            "11   Handlers-cleaners      86\n",
            "12        Armed-Forces       1\n",
            "13     Priv-house-serv       1\n"
          ]
        }
      ]
    },
    {
      "cell_type": "code",
      "source": [
        "#calculate percentage for each occupation\n",
        "total_2 = job_50k[\"counts\"].sum()\n",
        "job_50k[\"percentage\"] = job_50k[\"counts\"] / total_2 * 100\n",
        "print(job_50k)"
      ],
      "metadata": {
        "colab": {
          "base_uri": "https://localhost:8080/"
        },
        "id": "a6fUir6S8-g3",
        "outputId": "b55340cb-504c-4450-f170-96fd63cd45a4"
      },
      "execution_count": 38,
      "outputs": [
        {
          "output_type": "stream",
          "name": "stdout",
          "text": [
            "            occupation  counts  percentage\n",
            "0      Exec-managerial    1968   25.725490\n",
            "1       Prof-specialty    1859   24.300654\n",
            "2                Sales     983   12.849673\n",
            "3         Craft-repair     929   12.143791\n",
            "4         Adm-clerical     507    6.627451\n",
            "5     Transport-moving     320    4.183007\n",
            "6         Tech-support     283    3.699346\n",
            "7    Machine-op-inspct     250    3.267974\n",
            "8      Protective-serv     211    2.758170\n",
            "9        Other-service     137    1.790850\n",
            "10     Farming-fishing     115    1.503268\n",
            "11   Handlers-cleaners      86    1.124183\n",
            "12        Armed-Forces       1    0.013072\n",
            "13     Priv-house-serv       1    0.013072\n"
          ]
        }
      ]
    },
    {
      "cell_type": "markdown",
      "source": [
        "# Conclusions  \n",
        "\n",
        "After exploring your dataset, provide a short summary of what you noticed from this dataset.  What would you explore further with more time?"
      ],
      "metadata": {
        "id": "tujjevRpXEen"
      }
    },
    {
      "cell_type": "markdown",
      "source": [
        "Upon analyzing the dataset, I identified that a limited percentage of individuals earn more than 50,000 annually. Notably, 90% of this subgroup comprises white individuals, which can be attributed to their increased likelihood of attaining higher education and having access to diverse resources. Furthermore, 25% of those earning over 50,000 occupy positions as executives or managers, while 24% work as specialized professors. Given additional time, I intend to further investigate potential correlations between higher education and factors such as marital status and gender."
      ],
      "metadata": {
        "id": "UAm0sCcQ9KjB"
      }
    }
  ]
}